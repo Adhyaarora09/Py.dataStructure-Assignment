{
  "nbformat": 4,
  "nbformat_minor": 0,
  "metadata": {
    "colab": {
      "provenance": []
    },
    "kernelspec": {
      "name": "python3",
      "display_name": "Python 3"
    },
    "language_info": {
      "name": "python"
    }
  },
  "cells": [
    {
      "cell_type": "code",
      "execution_count": null,
      "metadata": {
        "id": "HZKKMayAzmSh"
      },
      "outputs": [],
      "source": []
    },
    {
      "cell_type": "markdown",
      "source": [
        "                    Data Types and Structures Questions\n",
        "\n",
        "1Que:- What are data structures, and why are they important?\n",
        "\n",
        "Ans:-Data structures are specialized formats used to organize, manage, and store data in a computer's memory or storage system. They provide an efficient way to arrange and manipulate data to perform operations like insertion, deletion, searching, sorting, and more. These structures are crucial in computer science and software engineering for several reasons:\n",
        "\n",
        " Efficient Data Organization: Data structures offer efficient means of organizing and managing data. They determine how data is stored in memory, making it easier to access, retrieve, and manipulate information.\n",
        "\n",
        " Optimized Operations: Different data structures excel in performing specific operations. For instance, arrays are excellent for quick access to elements by index, while linked lists are better for insertions and deletions.\n",
        "\n",
        " Algorithms and Problem-Solving: Understanding data structures is crucial for designing algorithms. Efficient algorithms often rely on using the appropriate data structures to solve problems effectively.\n",
        "\n",
        " Memory Utilization: Data structures enable optimal memory utilization. By choosing the right structure, programmers can minimize memory wastage and enhance performance.\n",
        "\n",
        "  Data Retrieval Speed: The choice of data structure significantly impacts the speed of data retrieval and manipulation. Some structures offer faster access to data, making operations more efficient.\n",
        "  \n",
        "Scalability and Flexibility: Well-designed data structures allow for the scalability of applications. They can adapt to changes in data size or structure without compromising efficiency.\n",
        "\n",
        "Real-World Applications: Data structures are fundamental in the development of various applications, such as databases, operating systems, compilers, and more. For instance, databases use various data structures to organize and retrieve information efficiently.\n",
        "\n",
        "\n",
        "Understanding Efficiency Trade-offs: Different data structures have their own trade-offs. For instance, while arrays offer fast access to elements by index, they have a fixed size. Understanding these trade-offs is crucial for optimizing performance.\n",
        "\n",
        "Software Design and Development: Choosing the right data structure is a critical aspect of software design. It impacts the overall architecture and functionality of the system.\n",
        "\n",
        "Learning Algorithms and Data Manipulation: Learning about data structures is a key part of understanding algorithms. It helps in improving problem-solving skills and developing efficient solutions.\n",
        "\n",
        "\n",
        "2Que:-  Explain the difference between mutable and immutable data types with examples.\n",
        "\n",
        "Ans:-  Python defines variety of data types of objects. These objects are stored in memory and object mutability depends upon the type, like Lists and Dictionaries are mutable it means that we can change their content without changing their identity. Other objects like Integers, Floats, Strings, and Tuples have no provision to change there assigned value for an index.\n",
        "\n",
        "List is mutable: Lists are just like the arrays, declared in other languages. Lists need not be homogeneous always which makes it a most powerful tool in Python. Lists are mutable, and hence, they can be altered even after their creation.\n",
        "\n",
        "Example\n",
        "#Write a python program to print list of a number?\n",
        "list=[1,2,3,4,5]\n",
        "\n",
        "print(list)\n",
        "\n",
        "Output\n",
        "\n",
        "[1,2,3,4,5]\n",
        "\n",
        "List is a collection which is ordered and changeable. Allows duplicate members.\n",
        "\n",
        "Example\n",
        "\n",
        "list=[1,2,3,4,5]\n",
        "\n",
        "list[0] ='a'\n",
        "\n",
        "print(list)\n",
        "\n",
        "Output\n",
        "\n",
        "['a', 2, 3, 4, 5]\n",
        "\n",
        "While running the program, assigning the zero based index with the value of '1' can be assigned a value of 'a' which is mutable(can be modified)\n",
        "\n",
        "Tuple is immutable: A tuple is a collection which is ordered and unchangeable, does not allow duplicate members. In Python tuples are written with round or inside parentheses (), separated by commas. The parentheses are optional, however, it is a good practice to use them.\n",
        "\n",
        "Example\n",
        "#Write a python program to print tuple of a number?\n",
        "Tuple=(10,20,30)\n",
        "\n",
        "print(tuple)\n",
        "\n",
        "Output\n",
        "\n",
        "(10,20,30)\n",
        "\n",
        "Tuple is ordered and unchangeable(cannot be modified).\n",
        "\n",
        "Example\n",
        "tuple=(10,20,30)\n",
        "\n",
        "tuple[0]=50\n",
        "\n",
        "print(tuple)\n",
        "\n",
        "Output\n",
        "\n",
        "TypeError Traceback (most recent call last)\n",
        "\n",
        "in\n",
        "\n",
        "1 my_yuple = (10, 20, 30)\n",
        "\n",
        "----> 2 my_yuple[0] = 50\n",
        "\n",
        "3 print(my_yuple)\n",
        "\n",
        "\n",
        "TypeError: 'tuple' object does not support item assignment\n",
        "While assigning the zero based index with the value of '50' throws an exception, because it is already assigned a value of '10' which is immutable(cannot be modified).\n",
        "\n",
        "\n",
        "3Que:- What are the main differences between lists and tuples in Python?\n",
        "\n",
        "Ans:- The difference betwwen lists and tuples are python in:-\n",
        "\n",
        "1\tLists are mutable(can be modified).\tTuples are immutable(cannot be modified).\n",
        "\n",
        "2\tIteration over lists is time-consuming.\tIterations over tuple is faster.\n",
        "\n",
        "3\tLists are better for performing operations, such as insertion and deletion.\tTuples are more suitable for accessing elements efficiently.\n",
        "\n",
        "4\tLists consume more memory.\tTuples consumes less memory.\n",
        "\n",
        "5\tLists have several built-in methods.\tTuples have fewer built-in methods.\n",
        "\n",
        "6\tLists are more prone to unexpected changes and errors.\tTuples, being immutable are less error prone.\n",
        "\n",
        "\n",
        "4Que:- Describe how dictionaries store data?\n",
        "\n",
        "Ans:- A Python dictionary is a data structure that stores the value in key: value pairs. Values in a dictionary can be of any data type and can be duplicated, whereas keys can’t be repeated and must be immutable.\n",
        "\n",
        "Example: Here, The data is stored in key:value pairs in dictionaries, which makes it easier to find values.\n",
        "\n",
        "d = {1: 'Geeks', 2: 'For', 3: 'Geeks'}\n",
        "\n",
        "print(d)\n",
        "\n",
        "Output\n",
        "{1: 'Geeks', 2: 'For', 3: 'Geeks'}\n",
        "\n",
        "5Que:- Why might you use a set instead of a list in Python?\n",
        "\n",
        "Ans:- In Python, both sets and lists are used to store collections of elements but they have key differences that make them suitable for different use cases. The main difference is that lists are ordered, meaning the order of elements is preserved and they can be accessed by their index while sets are unordered meaning they do not maintain the order of elements and automatically ensure all elements are unique. This article will explore the differences between sets and lists, including their properties, performance, and typical use cases.\n",
        "\n",
        "Overview of Sets\n",
        "A set is an unordered collection of unique elements. Sets are defined using curly braces {} or the set() function.\n",
        "\n",
        "Example:\n",
        "\n",
        "# Creating a set\n",
        "\n",
        "s1 = {1, 2, 3, 4}\n",
        "\n",
        "s2 = set([4, 5, 6, 7])\n",
        "\n",
        "print(s1)       \n",
        "\n",
        "print(s2)\n",
        "\n",
        "Output\n",
        "\n",
        "{1, 2, 3, 4}\n",
        "\n",
        "{4, 5, 6, 7}\n",
        "\n",
        "\n",
        "6Que:- What is a string in Python, and how is it different from a list?\n",
        "\n",
        "Ans:- Strings in Python:\n",
        "\n",
        "A string is a sequence of characters that can be a combination of letters, numbers, and special characters. It can be declared in python by using single quotes, double quotes, or even triple quotes. These quotes are not a part of a string, they define only starting and ending of the string.  Strings are immutable, i.e., they cannot be changed. Each element of the string can be accessed using indexing or slicing operations.\n",
        "\n",
        "Lists in Python:\n",
        "\n",
        "Lists are one of the most powerful data structures in python. Lists are sequenced data types.  In Python, an empty list is created using list() function. They are just like the arrays declared in other languages. But the most powerful thing is that list need not be always homogeneous. A single list can contain strings, integers, as well as other objects. Lists can also be used for implementing stacks and queues. Lists are mutable, i.e., they can be altered once declared. The elements of list can be accessed using indexing and slicing operations.\n",
        "\n",
        "That is called the string is differ from list.\n",
        "\n",
        "7Que:- How do tuples ensure data integrity in Python?\n",
        "\n",
        "Ans:- Use tuples for immutable sequences: When you want to ensure data cannot be changed. Use named tuples for clarity: When you want both immutability and self-documenting code. Return tuples from functions: For multiple return values, tuples provide a clean solution.\n",
        "\n",
        "\n",
        "8Que:- What is a hash table, and how does it relate to dictionaries in Python?\n",
        "\n",
        "Ans:- A Hash table is defined as a data structure used to insert, look up, and remove key-value pairs quickly. It operates on the hashing concept, where each key is translated by a hash function into a distinct index in an array. The index functions as a storage location for the matching value. In simple words, it maps the keys with the value.\n",
        "\n",
        "Dictionary in Python is a collection of data values, used to store data values like a map, which, unlike other Data Types that hold only a single value as an element, Dictionary holds key:value pair. Key-value is provided in the dictionary to make it more optimized. Each key-value pair in a Dictionary is separated by a colon :, whereas each key is separated by a ‘comma’.\n",
        "\n",
        "  Based on a proposal by Raymond Hettinger the new dict() function has 20% to 25% less memory usage compared to python v.3.5 or less. It relies upon the order-preserving semantics proposed by Raymond Hettinger. This implementation makes the dictionaries more compact and provides a faster iteration over them.\n",
        "\n",
        "The memory layout of dictionaries in earlier versions was unnecessarily inefficient. It comprised of a sparse table of 24-byte entries that stored the hash value, the key pointer, and the value pointer. The memory layout of dictionaries in version 3.5 and less were implemented to store in a single sparse table.\n",
        "\n",
        "\n",
        "9Que:- Can lists contain different data types in Python?\n",
        "\n",
        "Ans:- Yes, lists are contain different data types in Python.\n",
        "\n",
        "10Que:- Explain why strings are immutable in Python?\n",
        "\n",
        "Ans:- Work with Mutable and Immutable Objects::\n",
        "\n",
        "The immutable term generally refers to their property of being immune to change or modification after their creation, the same case with the string data type in Python which is immutable.\n",
        "\n",
        "Some other datatypes in Python are immutable such as strings, numbers (integers, floats, complex numbers), tuples, and frozensets.\n",
        "\n",
        "Mutable objects are that we can modify according to our requirements and use according to our use..\n",
        "\n",
        "Example:\n",
        "\n",
        "my_string = \"Hello, world!\"\n",
        "\n",
        "#Attempt to modify the string\n",
        "my_string[0] = 'h' # Raises TypeError: 'str' object does not support item assignment-----\n",
        "\n",
        "\n",
        "11Que:- What advantages do dictionaries offer over lists for certain tasks?\n",
        "\n",
        "Ans:- The primary advantage of dictionaries over lists is their ability to provide fast value retrieval using unique keys.  This results in significantly faster data access, especially when dealing with large datasets.  Dictionaries offer an average time complexity of O(1) for lookups, while lists require O(n) time complexity.\n",
        "\n",
        "Explanation:\n",
        "\n",
        " Step 1: Identify the core difference.  Dictionaries and lists are both data structures used to store collections of items. However, they differ fundamentally in how they organize and access data. Lists use numerical indices (0, 1, 2, ...), while dictionaries use unique keys to access values.\n",
        "\n",
        "Step 2: Explain the advantage of key-based access.  The key advantage of dictionaries lies in their ability to retrieve values using keys. This key-value pairing enables significantly faster lookups compared to lists, where you need to iterate through elements until you find the desired one.  The time complexity of dictionary lookups is typically O(1) (constant time), while list lookups are O(n) (linear time, where n is the number of elements).\n",
        "\n",
        "Step 3: Illustrate with an example. Consider a phone book.  A list would require searching through each entry sequentially until finding a name. A dictionary, however, could directly access a phone number using the person's name as the key.\n",
        "\n",
        "\n",
        "12Que:- Describe a scenario where using a tuple would be preferable over a list?\n",
        "\n",
        "Ans:- Tuples being immutable do not allow any changes in its data. When we want faster access to data that will not change as tuples are faster than lists. When we want to use the data as a key in a dictionary. Tuples can be used as keys in a dictionary, but lists cannot.\n",
        "\n",
        "13Que:-  How do sets handle duplicate values in Python?\n",
        "\n",
        "Ans:- Handling Duplicates with Sets\n",
        "\n",
        "Use-Case Scenarios\n",
        "\n",
        "One of the most common use cases for sets is removing duplicates from a list. Let’s explore how this can be done:\n",
        "\n",
        "Suppose you have a list of items with duplicates, and you need to filter out the duplicates to analyze how many distinct elements exist:\n",
        "\n",
        "\n",
        "Example: Removing Duplicates from a List\n",
        "\n",
        "#List of items with duplicates\n",
        "\n",
        "items = [\"apple\", \"banana\", \"apple\", \"orange\", \"banana\", \"pear\"]\n",
        "\n",
        "#Remove duplicates using a set\n",
        "\n",
        "unique_items = list(set(items))\n",
        "\n",
        "print(unique_items)\n",
        "\n",
        "['banana', 'orange', 'pear', 'apple']\n",
        "\n",
        "\n",
        "As expected, the conversion of the list into a set and back again yields a list with unique items.\n",
        "\n",
        "\n",
        "14Que:- How does the “in” keyword work differently for lists and dictionaries?\n",
        "\n",
        "Ans:- The in operator can be used not only with list, but also with other iterable objects such as tuple, set, and range.\n",
        "\n",
        "print(1 in (0, 1, 2))\n",
        "# True\n",
        "\n",
        "print(1 in {0, 1, 2})\n",
        "# True\n",
        "\n",
        "print(1 in range(3))\n",
        "# True\n",
        "\n",
        "\n",
        "in for the dictionary (dict):\n",
        "\n",
        "The in operator for dictionaries (dict) checks for the presence of a key.\n",
        "\n",
        "d = {'key1': 'value1', 'key2': 'value2', 'key3': 'value3'}\n",
        "\n",
        "print('key1' in d)\n",
        "# True\n",
        "\n",
        "print('value1' in d)\n",
        "# False\n",
        "\n",
        "Use the values() and items() methods to test for the presence of values or key-value pairs.\n",
        "\n",
        "print('value1' in d.values())\n",
        "# True\n",
        "\n",
        "print(('key1', 'value1') in d.items())\n",
        "# True\n",
        "\n",
        "print(('key1', 'value2') in d.items())\n",
        "# False\n",
        "\n",
        "\n",
        "15Que:- Can you modify the elements of a tuple? Explain why or why not.\n",
        "\n",
        "Ans:- Suppose I create a tuple like so:\n",
        "\n",
        ">>> a = (1, 2, 3,)\n",
        "\n",
        "I want to modify it:\n",
        "\n",
        ">>> a[0] = 10\n",
        "\n",
        "But this causes an exception:\n",
        "\n",
        "Traceback (most recent call last):\n",
        "\n",
        "  File \"<stdin>\", line 1, in <module>\n",
        "\n",
        "TypeError: 'tuple' object does not support item assignment\n",
        "\n",
        "Why is it not possible to modify the tuple?\n",
        "\n",
        "Because tuples are immutable. If you want mutable sequences, use lists.\n",
        "\n",
        "16Que:- What is a nested dictionary, and give an example of its use case?\n",
        "\n",
        "Ans:- In Python, a nested dictionary is a dictionary inside a dictionary. It's a collection of dictionaries into one single dictionary.\n",
        "\n",
        "nested_dict = { 'dictA': {'key_1': 'value_1'},\n",
        "            'dictB': {'key_2': 'value_2'}}\n",
        "Here, the nested_dict is a nested dictionary with the dictionary dictA and dictB. They are two dictionary each having own key and value.\n",
        "\n",
        "Create a Nested Dictionary:\n",
        "\n",
        "We're going to create dictionary of people within a dictionary.\n",
        "\n",
        "Example 1: How to create a nested dictionary:\n",
        "people = {1: {'name': 'John', 'age': '27', 'sex': 'Male'},\n",
        "          2: {'name': 'Marie', 'age': '22', 'sex': 'Female'}}\n",
        "\n",
        "print(people)\n",
        "\n",
        "When we run above program, it will output:\n",
        "\n",
        "{1: {'name': 'John', 'age': '27', 'sex': 'Male'}, 2: {'name': 'Marie', 'age': '22', 'sex': 'Female'}}\n",
        "\n",
        "In the above program, people is a nested dictionary. The internal dictionary 1 and 2 is assigned to people. Here, both the dictionary have key name, age , sex with different values. Now, we print the result of people.\n",
        "\n",
        "17Que:- Describe the time complexity of accessing elements in a dictionary?\n",
        "\n",
        "Ans:- Python dictionaries provide a fast and efficient way to store and retrieve data using key value pair so understanding the time complexities of dictionary operations is very important for optimizing performance in our programs.\n",
        "\n",
        "\n",
        "Accessing Elements by Key (O(1)):\n",
        "\n",
        "The time complexity of retrieving a value by its key in a dictionary is O(1). This is because dictionaries use a hash table internally which allows constant time lookup.\n",
        "\n",
        "Example:\n",
        "\n",
        "# Create a dictionary\n",
        "\n",
        "dict = {'a': 1, 'b': 2, 'c': 3}\n",
        "\n",
        "# Access value by key\n",
        "\n",
        "val = dict['b']\n",
        "\n",
        "print(val)\n",
        "\n",
        "Why O(1)? Hash tables use the hash of the key to find the memory location which enables direct access.\n",
        "\n",
        "18Que:- In what situations are lists preferred over dictionaries?\n",
        "\n",
        "Ans:- Lists are often preferred over dictionaries when the order of elements is crucial, or when you need to perform operations that rely on the sequential arrangement of items. For example, if you need to maintain a stack or queue, or if you're working with data that represents a sequence of steps or events, a list is a better choice.\n",
        "\n",
        "Here's a more detailed breakdown:\n",
        "\n",
        "When to use Lists:\n",
        "\n",
        "Ordered sequences:\n",
        "\n",
        "Lists are designed to store elements in a specific order, and they preserve that order throughout operations.\n",
        "\n",
        "Sequence operations:\n",
        "\n",
        "If you frequently need to append, extend, insert, or remove elements from a collection while maintaining the order, lists are well-suited.\n",
        "\n",
        "Iteration and indexing:\n",
        "\n",
        "Lists allow you to access elements by their index (position) and iterate through them in a straightforward manner.\n",
        "\n",
        "Storing homogeneous data:\n",
        "\n",
        "If you're dealing with a collection of items of the same type (e.g., a list of numbers, a list of strings), a list is often a suitable choice.\n",
        "\n",
        "When to use Dictionaries:\n",
        "\n",
        "Key-value pairs:\n",
        "\n",
        "Dictionaries are designed to store data as key-value pairs, where each key uniquely identifies a value.\n",
        "\n",
        "Efficient lookups:\n",
        "\n",
        "If you need to access data quickly based on a specific key, dictionaries offer significant performance advantages over lists.\n",
        "\n",
        "Associating data:\n",
        "\n",
        "Dictionaries are ideal for associating data elements with each other based on a key (e.g., a dictionary of customer IDs and their corresponding customer information).\n",
        "\n",
        "When order is not important:\n",
        "\n",
        "While dictionaries in Python 3.7+ maintain insertion order, they are not fundamentally ordered like lists. If order is not a primary concern, a dictionary can still be a good option.\n",
        "\n",
        "19Que:-  Why are dictionaries considered unordered, and how does that affect data retrieval?\n",
        "\n",
        "Ans:- Dictionary is a data structure which is a important value structure, optimized for fast storage and recovery based on key. In python, dictionaries are un-ordered because Python dictionaries are not intended to be in order, as simple as that.\n",
        "\n",
        "20Que:-  Explain the difference between a list and a dictionary in terms of data retrieval.\n",
        "\n",
        "Ans:- A list is an ordered collection of items, whereas a dictionary is an unordered data collection in a key: value pair. Elements from the list can be accessed using the index, while the elements of the dictionary can be accessed using keys.\n",
        "\n"
      ],
      "metadata": {
        "id": "bzsS2Fe7znsP"
      }
    },
    {
      "cell_type": "markdown",
      "source": [
        "          Practical Answer:-\n",
        "\n",
        "1Que:- Write a code to create a string with your name and print it."
      ],
      "metadata": {
        "id": "-QJicEGmKtlp"
      }
    },
    {
      "cell_type": "code",
      "source": [
        "name = \"Priya Arora\"\n",
        "print(name)"
      ],
      "metadata": {
        "colab": {
          "base_uri": "https://localhost:8080/"
        },
        "id": "qnPVkG6PK9Q9",
        "outputId": "ce5c66e2-12b3-428c-b0b9-2559d6265cab"
      },
      "execution_count": 1,
      "outputs": [
        {
          "output_type": "stream",
          "name": "stdout",
          "text": [
            "Priya Arora\n"
          ]
        }
      ]
    },
    {
      "cell_type": "markdown",
      "source": [
        "2Que:- Write a code to find the length of the string \"Hello World\".\n"
      ],
      "metadata": {
        "id": "IIk5PnkqLn-1"
      }
    },
    {
      "cell_type": "code",
      "source": [
        "string = \"Hello World\"\n",
        "length =len(string)\n",
        "print(length)"
      ],
      "metadata": {
        "colab": {
          "base_uri": "https://localhost:8080/"
        },
        "id": "GCzP30w2LtWl",
        "outputId": "7e3ee782-e734-4050-e3bb-4ba093a2bb78"
      },
      "execution_count": 2,
      "outputs": [
        {
          "output_type": "stream",
          "name": "stdout",
          "text": [
            "11\n"
          ]
        }
      ]
    },
    {
      "cell_type": "markdown",
      "source": [
        "3Que:- Write a code to slice the first 3 characters from the string \"Python Programming\"."
      ],
      "metadata": {
        "id": "YnEd4_1fL8RD"
      }
    },
    {
      "cell_type": "code",
      "source": [
        "string = \"Python programming\"\n",
        "sliced_string = string[0:3]\n",
        "print(sliced_string)"
      ],
      "metadata": {
        "colab": {
          "base_uri": "https://localhost:8080/"
        },
        "id": "DsEeBx6ZMI1S",
        "outputId": "d7f12671-d48f-4d9f-db57-7b7ec2e121f1"
      },
      "execution_count": 3,
      "outputs": [
        {
          "output_type": "stream",
          "name": "stdout",
          "text": [
            "Pyt\n"
          ]
        }
      ]
    },
    {
      "cell_type": "markdown",
      "source": [
        "4Que:- Write a code to convert the string \"hello\" to uppercase."
      ],
      "metadata": {
        "id": "BkYNEV7fMYOP"
      }
    },
    {
      "cell_type": "code",
      "source": [
        "string = \"hello\"\n",
        "uppercase_string = string.upper()\n",
        "print(uppercase_string)"
      ],
      "metadata": {
        "colab": {
          "base_uri": "https://localhost:8080/"
        },
        "id": "iwRT-_sqMfyx",
        "outputId": "d199acbc-9edb-483d-932d-1db727739414"
      },
      "execution_count": 4,
      "outputs": [
        {
          "output_type": "stream",
          "name": "stdout",
          "text": [
            "HELLO\n"
          ]
        }
      ]
    },
    {
      "cell_type": "markdown",
      "source": [
        "5Que:- Write a code to replace the word \"apple\" with \"orange\" in the string \"I like apple\"."
      ],
      "metadata": {
        "id": "tMrM6hDVMu2s"
      }
    },
    {
      "cell_type": "code",
      "source": [
        "s = \"I like apple\"\n",
        "\n",
        "# Replace \"apple\" with \"orange\" only once\n",
        "s1 = s.replace(\"apple\", \"orange\", 1)\n",
        "\n",
        "print(s1)"
      ],
      "metadata": {
        "colab": {
          "base_uri": "https://localhost:8080/"
        },
        "id": "zuz_ZM1jM1c6",
        "outputId": "e116ce1c-1826-4d13-98de-39362550f7a2"
      },
      "execution_count": 6,
      "outputs": [
        {
          "output_type": "stream",
          "name": "stdout",
          "text": [
            "I like orange\n"
          ]
        }
      ]
    },
    {
      "cell_type": "markdown",
      "source": [
        "6Que:- Write a code to create a list with numbers 1 to 5 and print it."
      ],
      "metadata": {
        "id": "jth0BX2dQJeT"
      }
    },
    {
      "cell_type": "code",
      "source": [
        "numbers = list(range(1,6))\n",
        "print(numbers)"
      ],
      "metadata": {
        "colab": {
          "base_uri": "https://localhost:8080/"
        },
        "id": "_mtRNGSxQamn",
        "outputId": "61ddce94-111e-4ce6-8f13-fcd1670ceaa5"
      },
      "execution_count": 9,
      "outputs": [
        {
          "output_type": "stream",
          "name": "stdout",
          "text": [
            "[1, 2, 3, 4, 5]\n"
          ]
        }
      ]
    },
    {
      "cell_type": "markdown",
      "source": [
        "7Que:- Write a code to append the number 10 to the list [1, 2, 3, 4]."
      ],
      "metadata": {
        "id": "kof88HKUQ3dr"
      }
    },
    {
      "cell_type": "code",
      "source": [
        "list = [1,2,3,4]\n",
        "list.append(10)\n",
        "print(list)"
      ],
      "metadata": {
        "colab": {
          "base_uri": "https://localhost:8080/"
        },
        "id": "FtZ3xa8zQ-f6",
        "outputId": "a39f5bad-229f-4b0d-e599-0170cd33df24"
      },
      "execution_count": 11,
      "outputs": [
        {
          "output_type": "stream",
          "name": "stdout",
          "text": [
            "[1, 2, 3, 4, 10]\n"
          ]
        }
      ]
    },
    {
      "cell_type": "markdown",
      "source": [
        "8Que:- Write a code to remove the number 3 from the list [1, 2, 3, 4, 5]."
      ],
      "metadata": {
        "id": "8_28y-65Rfmk"
      }
    },
    {
      "cell_type": "code",
      "source": [
        "list = [1,2,3,4,5]\n",
        "list.remove(3)\n",
        "print(list)"
      ],
      "metadata": {
        "colab": {
          "base_uri": "https://localhost:8080/"
        },
        "id": "hQKQweSORiK1",
        "outputId": "7f289641-9e02-4f0b-e7db-53bc732d4142"
      },
      "execution_count": 13,
      "outputs": [
        {
          "output_type": "stream",
          "name": "stdout",
          "text": [
            "[1, 2, 4, 5]\n"
          ]
        }
      ]
    },
    {
      "cell_type": "markdown",
      "source": [
        "9Que:- Write a code to access the second element in the list ['a', 'b', 'c', 'd']."
      ],
      "metadata": {
        "id": "ZbI9JRP8RwWH"
      }
    },
    {
      "cell_type": "code",
      "source": [
        "list = ['a','b','c','d']\n",
        "print(list[1])"
      ],
      "metadata": {
        "colab": {
          "base_uri": "https://localhost:8080/"
        },
        "id": "UGQprBKyR3Jy",
        "outputId": "c03b4d18-397e-45c7-d513-f0ed6a0fc46e"
      },
      "execution_count": 16,
      "outputs": [
        {
          "output_type": "stream",
          "name": "stdout",
          "text": [
            "b\n"
          ]
        }
      ]
    },
    {
      "cell_type": "markdown",
      "source": [
        "10Que:- Write a code to reverse the list [10, 20, 30, 40, 50]."
      ],
      "metadata": {
        "id": "_QlKmqO-SeL0"
      }
    },
    {
      "cell_type": "code",
      "source": [
        "list = [10,20,30,40,50]\n",
        "list.reverse()\n",
        "print(list)"
      ],
      "metadata": {
        "colab": {
          "base_uri": "https://localhost:8080/"
        },
        "id": "-KiFqqJRSlE-",
        "outputId": "4cf930f5-36c9-48c1-b099-b9d6824d43c3"
      },
      "execution_count": 18,
      "outputs": [
        {
          "output_type": "stream",
          "name": "stdout",
          "text": [
            "[50, 40, 30, 20, 10]\n"
          ]
        }
      ]
    }
  ]
}